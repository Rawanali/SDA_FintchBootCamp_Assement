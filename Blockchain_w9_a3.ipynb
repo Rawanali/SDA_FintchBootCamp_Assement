{
 "cells": [
  {
   "cell_type": "code",
   "execution_count": 1,
   "id": "1c626fe1-7bed-4f10-bbb1-fadb4a16963e",
   "metadata": {},
   "outputs": [],
   "source": [
    "import json\n",
    "import hashlib\n",
    "import time"
   ]
  },
  {
   "cell_type": "code",
   "execution_count": 2,
   "id": "58f2733f-adf7-49e1-981f-47e63db26813",
   "metadata": {},
   "outputs": [],
   "source": [
    "# --- Transictions -------\n",
    "tx_1 = {\n",
    "    \"addr_from\": \"3J98t1WpEZ73CNmQtJSEYsBMSEYstaNVN2\",\n",
    "    \"addr_to\": \"1BvBMSEYstWetqTFnJ98t1WpEZ73CNmQtJSEY\",\n",
    "    \"amount\": 99.00\n",
    "}\n",
    "\n",
    "tx_2 = {\n",
    "    \"addr_from\": \"3J98t1WpEZ73CNmQviecrnyiWrnqRhWNLy\",\n",
    "    \"addr_to\": \"1BvBMSEYsBMSEYstWetJSEYsBMSEYstaNVN4\",\n",
    "    \"amount\": 654.00\n",
    "}\n",
    "\n",
    "tx_3 = {\n",
    "    \"addr_from\": \"3J98t1WpEZ73CNmQviecrnyiWrnqRhWNLy\",\n",
    "    \"addr_to\": \"1BvBMSEYstWetqTFn98t1WpEZ73JaNVN8\",\n",
    "    \"amount\": 865.00\n",
    "}\n"
   ]
  },
  {
   "cell_type": "code",
   "execution_count": 3,
   "id": "3f1fbeda-2458-4339-9a43-86a067d66925",
   "metadata": {},
   "outputs": [],
   "source": [
    "# ----- Create the blocks -------\n",
    "class Block():\n",
    "    def __init__(self, index: int = 0 , transactions:list=[], timestamp:int=0, hash_b: str = \"  \", previous_hash: str = \"  \", nonce=0):\n",
    "        self.index = index\n",
    "        self.transactions:list = []\n",
    "        self.timestamp = None\n",
    "        self.hash : str= hash_b\n",
    "        self.previous_hash : str = previous_hash\n",
    "        self.nonce = nonce\n",
    "\n",
    "    def compute_hash(self) -> str:\n",
    "        block_string = json.dumps(self.__dict__, sort_keys=True)\n",
    "        hashlib.sha256(block_string.encode()).hexdigest()\n",
    "        return block_string\n"
   ]
  },
  {
   "cell_type": "code",
   "execution_count": 4,
   "id": "aea53148-e75d-4577-91f1-52db657ed086",
   "metadata": {},
   "outputs": [],
   "source": [
    "\n",
    "\n",
    "# ---- Create Blockchains ----------\n",
    "class Blockchain:\n",
    "    def __init__(self):\n",
    "        self.unconfirmed_transactions = []  # memopol :List[dict]\n",
    "        self.chain = [] # :List[dict]\n",
    "        self.difficulty: int = 2  # the difficult of the hash, so can incears any number\n",
    "        self.create_genesis_block()\n",
    "\n",
    "    def create_genesis_block(self):\n",
    "        # take an object from Block calss\n",
    "        genesis_block = Block(index=0, transactions=[], timestamp=time.time(),\n",
    "                              previous_hash=\"0\")  # if you rename your properties be sure to change this.\n",
    "        # create a hash for the block\n",
    "        genesis_block.hash = genesis_block.compute_hash()\n",
    "        # add it to the chain\n",
    "        self.chain.append(genesis_block)\n",
    "\n",
    "    def get_last_block(self) -> Block:\n",
    "        return self.chain[-1]\n",
    "\n",
    "    def proof_of_work(self, block: Block)->str:\n",
    "        compute_hash = block.compute_hash()\n",
    "        while not compute_hash.startswith(\"0\" * self.difficulty):\n",
    "            block.nonce += 1\n",
    "            computed_hash = block.compute_hash()\n",
    "        return computed_hash\n",
    "\n",
    "    def is_valid_proof(self, block: Block, proof: str) -> bool:\n",
    "        return proof.starstwith('0' * self.difficulty) and proof == block.compute_hash()\n",
    "\n",
    "    def add_block(self, block: Block, proof: str) -> bool:\n",
    "        last_block = self.get_last_block()\n",
    "        if last_block != Block.previous_hash:\n",
    "            return False\n",
    "        if not self.is_valid_proof(block, proof):\n",
    "            return False\n",
    "        print(block.__dict__)\n",
    "        block.hash = proof\n",
    "        self.chain.append(block)\n",
    "        print(self.chain[-1].__dict__)\n",
    "        return True\n",
    "\n",
    "    def add_new_transaction(self, transaction: dict) -> None:\n",
    "        self.unconfirmed_transactions.append(transaction)\n",
    "        \n",
    "        \n",
    "    def mine(self) -> int:\n",
    "        if len(self.unconfirmed_transactions) < 1:\n",
    "            return -1\n",
    "\n",
    "        last_block = self.get_last_block()\n",
    "        # self.unconfirmed_transactions.append(tx_1) # transactions\n",
    "\n",
    "        new_block = Block(index=last_block.index + 1,\n",
    "                          transactions=self.unconfirmed_transactions,\n",
    "                          timestamp=int(time.time()),\n",
    "                          previous_hash=last_block.hash)\n",
    "\n",
    "        proof = self.proof_of_work(new_block)\n",
    "        self.add_block(new_block, proof)\n",
    "            \n",
    "\n",
    "        self.unconfirmed_transactions = []\n",
    "        return self.get_last_block().index\n",
    "\n"
   ]
  },
  {
   "cell_type": "code",
   "execution_count": 5,
   "id": "9d20e783-f879-43a2-bd38-a6e194cca55a",
   "metadata": {},
   "outputs": [
    {
     "data": {
      "text/plain": [
       "[None, None, None]"
      ]
     },
     "execution_count": 5,
     "metadata": {},
     "output_type": "execute_result"
    }
   ],
   "source": [
    "bc = Blockchain()\n",
    "[bc.add_new_transaction(tx) for tx in [tx_1,tx_2,tx_3]]"
   ]
  },
  {
   "cell_type": "code",
   "execution_count": 6,
   "id": "2017b83b-5787-4060-9417-a30df17c47b2",
   "metadata": {},
   "outputs": [
    {
     "data": {
      "text/plain": [
       "[{'addr_from': '3J98t1WpEZ73CNmQtJSEYsBMSEYstaNVN2',\n",
       "  'addr_to': '1BvBMSEYstWetqTFnJ98t1WpEZ73CNmQtJSEY',\n",
       "  'amount': 99.0},\n",
       " {'addr_from': '3J98t1WpEZ73CNmQviecrnyiWrnqRhWNLy',\n",
       "  'addr_to': '1BvBMSEYsBMSEYstWetJSEYsBMSEYstaNVN4',\n",
       "  'amount': 654.0},\n",
       " {'addr_from': '3J98t1WpEZ73CNmQviecrnyiWrnqRhWNLy',\n",
       "  'addr_to': '1BvBMSEYstWetqTFn98t1WpEZ73JaNVN8',\n",
       "  'amount': 865.0}]"
      ]
     },
     "execution_count": 6,
     "metadata": {},
     "output_type": "execute_result"
    }
   ],
   "source": [
    "bc.unconfirmed_transactions"
   ]
  },
  {
   "cell_type": "code",
   "execution_count": 7,
   "id": "92b65bdd-3ae7-44ca-b01a-3fba737c1d7f",
   "metadata": {},
   "outputs": [
    {
     "data": {
      "text/plain": [
       "{'index': 0,\n",
       " 'transactions': [],\n",
       " 'timestamp': None,\n",
       " 'hash': '{\"hash\": \"  \", \"index\": 0, \"nonce\": 0, \"previous_hash\": \"0\", \"timestamp\": null, \"transactions\": []}',\n",
       " 'previous_hash': '0',\n",
       " 'nonce': 0}"
      ]
     },
     "execution_count": 7,
     "metadata": {},
     "output_type": "execute_result"
    }
   ],
   "source": [
    "bc.get_last_block().__dict__"
   ]
  },
  {
   "cell_type": "code",
   "execution_count": 8,
   "id": "09b035cb-b2cc-4cb9-b363-dbe13bcae3b1",
   "metadata": {},
   "outputs": [
    {
     "data": {
      "text/plain": [
       "{'index': 0,\n",
       " 'transactions': [],\n",
       " 'timestamp': None,\n",
       " 'hash': '{\"hash\": \"  \", \"index\": 0, \"nonce\": 0, \"previous_hash\": \"0\", \"timestamp\": null, \"transactions\": []}',\n",
       " 'previous_hash': '0',\n",
       " 'nonce': 0}"
      ]
     },
     "execution_count": 8,
     "metadata": {},
     "output_type": "execute_result"
    }
   ],
   "source": [
    "bc.chain[0].__dict__"
   ]
  },
  {
   "cell_type": "code",
   "execution_count": null,
   "id": "2ec4a8dc-2fd6-4cba-8bed-80230ac700b6",
   "metadata": {},
   "outputs": [],
   "source": [
    "bc.mine()"
   ]
  },
  {
   "cell_type": "code",
   "execution_count": null,
   "id": "c91c5db2-1199-4ede-8764-6294929d7671",
   "metadata": {},
   "outputs": [],
   "source": [
    "bc.get_last_block().__dict__"
   ]
  },
  {
   "cell_type": "code",
   "execution_count": null,
   "id": "633536cf-67a7-40f0-abaf-94138047aebf",
   "metadata": {},
   "outputs": [],
   "source": [
    "object_b = block()"
   ]
  },
  {
   "cell_type": "code",
   "execution_count": null,
   "id": "d46601ca-2be7-4422-b5d1-0750f67fb12d",
   "metadata": {},
   "outputs": [],
   "source": [
    "object_b.compute_hash()"
   ]
  },
  {
   "cell_type": "code",
   "execution_count": null,
   "id": "67555a14-5ce0-4361-86bd-d9dd6a380030",
   "metadata": {},
   "outputs": [],
   "source": [
    "object_b.compute_hash().stratswith('0'* 2)"
   ]
  }
 ],
 "metadata": {
  "kernelspec": {
   "display_name": "Python 3",
   "language": "python",
   "name": "python3"
  },
  "language_info": {
   "codemirror_mode": {
    "name": "ipython",
    "version": 3
   },
   "file_extension": ".py",
   "mimetype": "text/x-python",
   "name": "python",
   "nbconvert_exporter": "python",
   "pygments_lexer": "ipython3",
   "version": "3.8.8"
  }
 },
 "nbformat": 4,
 "nbformat_minor": 5
}
