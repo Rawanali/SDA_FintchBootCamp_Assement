{
 "cells": [
  {
   "cell_type": "markdown",
   "metadata": {},
   "source": [
    "Week 4, Assignment C1:\n",
    "\n",
    "CAPM and Modern Portfolio Theory in Python\n",
    "\n",
    "In this notebook, we will study Modern Portfolio Theory in Python.\n",
    "Please complete the lines bellow where you see \"# TODO\"."
   ]
  },
  {
   "cell_type": "code",
   "execution_count": 1,
   "metadata": {},
   "outputs": [],
   "source": [
    "#Objective 1.\n",
    "#Use this cell to import Numpy (as np) and Pyplot (from Matplotlib as plt) packages.\n",
    "\n",
    "import numpy as np\n",
    "import pandas as pd\n",
    "import matplotlib.pyplot as plt\n",
    "%matplotlib inline"
   ]
  },
  {
   "cell_type": "code",
   "execution_count": 2,
   "metadata": {},
   "outputs": [],
   "source": [
    "#Objective 2.\n",
    "#Select a number of asset classes ( > 1 ) and a number of observations ( > 500 ).  Store your chosen values to the\n",
    "#two new variables \"no_of_asset_classes\" and \"no_of_observations\", respectively.\n",
    "\n",
    "\n",
    "no_of_asset_classes = 5 \n",
    "no_of_observations = 5000 "
   ]
  },
  {
   "cell_type": "code",
   "execution_count": 3,
   "metadata": {},
   "outputs": [],
   "source": [
    "np.random.seed(123)\n",
    "matrix_of_return_values = np.random.randn(no_of_asset_classes, no_of_observations)\n",
    "\n",
    "#Objective 3.\n",
    "#Select a number of test portfolios to generate ( > 1,000 < 20,000).  Store your chosen value to the new variable\n",
    "#\"no_of_portfolios\".  \n",
    "\n",
    "no_of_portfolios = 2000 "
   ]
  },
  {
   "cell_type": "code",
   "execution_count": 4,
   "metadata": {},
   "outputs": [],
   "source": [
    "#Objective 4.\n",
    "#Initialize four empty lists called \"collection_of_random_asset_weights\", \"portfolio_means\",\n",
    "#\"portfolio_standard_deviations\", and \"portfolio_sharpe_ratios\", respectively.\n",
    "\n",
    "collection_of_random_asset_weights = []\n",
    "portfolio_means = []\n",
    "portfolio_standard_deviations = []\n",
    "portfolio_sharpe_ratios = []"
   ]
  },
  {
   "cell_type": "code",
   "execution_count": 5,
   "metadata": {},
   "outputs": [],
   "source": [
    "#Objective 5.\n",
    "#Write a function called \"get_random_asset_weights\" that takes as input (Input.I) any number of asset classes\n",
    "#\"no_of_asset_classes\" and returns (Output.I) a Numpy vector (matrix) of weights (percentages) of length \"no_of_asset_classes\"\n",
    "# whose sum is one (1).\n",
    "# w = w / w.sum()\n",
    "#a = 1213\n",
    "# np.allclose(a, b)\n",
    "\n",
    "\n",
    "def get_random_asset_weights(no_of_asset_classes):\n",
    "    random_asset_weights = np.random.rand(no_of_asset_classes)\n",
    "    return np.asmatrix(random_asset_weights/random_asset_weights.sum())\n",
    "\n",
    "#get_random_asset_weights(a)"
   ]
  },
  {
   "cell_type": "code",
   "execution_count": 6,
   "metadata": {},
   "outputs": [],
   "source": [
    "#Objective 6.\n",
    "\n",
    "#Write a function called \"get_portfolio_statistics\" that takes as input (Input.I) a Numpy vector (matrix)\n",
    "#\"asset_weights\" of weights (percentages) whose sum is one (1) and (Input.II) a Numpy matrix of return values\n",
    "#\"matrix_of_return_values\" whose first axis length is the same as the length of the Numpy vector (matrix)\n",
    "#\"asset_weights\" and returns (Output.I) the mean \"portfolio_mean\", (Output.II) the standard deviation\n",
    "#\"portfolio_standard_deviation\", and (Output.III) the Sharpe ratio \"portfolio_sharpe_ratio\" of the portfolio of\n",
    "#assets with asset weights \"asset_weights\" and asset return values belonging to \"matrix_of_return_values\".\n",
    "\n",
    "def get_portfolio_statistics(asset_weights, matrix_of_return_values):\n",
    "    asset_means = np.asmatrix(np.mean(matrix_of_return_values, axis = 1))\n",
    "    asset_covariances = np.asmatrix(np.cov(matrix_of_return_values))\n",
    "    portfolio_mean = asset_weights * asset_means.T\n",
    "    \n",
    "    portfolio_standard_deviation = np.sqrt(asset_weights*asset_covariances* asset_weights.T)#*np.sqrt(250)\n",
    "    \n",
    "    portfolio_sharpe_ratio = portfolio_mean / portfolio_standard_deviation\n",
    "    return portfolio_mean.item(), portfolio_standard_deviation.item(), portfolio_sharpe_ratio.item()\n"
   ]
  },
  {
   "cell_type": "code",
   "execution_count": 7,
   "metadata": {},
   "outputs": [],
   "source": [
    "#Objective 7.\n",
    "#Using the functions constructed in Objectives 5 and 6, write a loop that, on each iteration, determines a\n",
    "#Numpy vector (matrix) of weights (percentages) \"random_asset_weights\" of length \"no_of_asset_classes\" whose sum \n",
    "#is one (1) and then appends to each of the lists \"collection_of_random_asset_weights\", \"portfolio_means\",\n",
    "#\"portfolio_standard_deviations\", and \"portfolio_sharpe_ratios\" the Numpy vector (matrix) of weights (percentages)\n",
    "#\"random_asset_weights\"; and the mean \"portfolio_mean\", the standard deviation \"portfolio_standard_deviation\", and\n",
    "#the Sharpe ratio \"portfolio_sharpe_ratio\" of the portfolio of assets with asset weights \"asset_weights\" and asset \n",
    "#return values belonging to \"matrix_of_return_values\", respectively.\n",
    "collection_of_random_asset_weights = []\n",
    "portfolio_means = []\n",
    "portfolio_standard_deviations = []\n",
    "portfolio_sharpe_ratios = []\n",
    "\n",
    "\n",
    "while len(collection_of_random_asset_weights) < no_of_portfolios:\n",
    "    random_asset_weights = get_random_asset_weights(no_of_asset_classes=no_of_asset_classes)\n",
    "    collection_of_random_asset_weights.append(random_asset_weights) \n",
    "    #I recommend that two of the next three lines be #TODO's.\n",
    "    p_mean, p_std, p_sr = get_portfolio_statistics(\n",
    "        asset_weights= random_asset_weights,\n",
    "        matrix_of_return_values= matrix_of_return_values\n",
    "    )\n",
    "    portfolio_means.append(p_mean)\n",
    "    portfolio_standard_deviations.append(p_std)\n",
    "    portfolio_sharpe_ratios.append(p_sr)\n",
    "    \n",
    " "
   ]
  },
  {
   "cell_type": "code",
   "execution_count": null,
   "metadata": {},
   "outputs": [],
   "source": []
  },
  {
   "cell_type": "code",
   "execution_count": 8,
   "metadata": {},
   "outputs": [
    {
     "data": {
      "image/png": "[encoded data removed]",
      "text/plain": [
       "<Figure size 432x288 with 1 Axes>"
      ]
     },
     "metadata": {
      "needs_background": "light"
     },
     "output_type": "display_data"
    }
   ],
   "source": [
    "#Objective 8.\n",
    "#Make a scatterplot of the corresponding values (x,y) = (portfolio_standard_deviation, portfolio_mean) from the\n",
    "#lists \"portfolio_standard_deviations\" and \"portfolio_means\", respectively.\n",
    "\n",
    "plt.plot(portfolio_standard_deviations,portfolio_means, 'o', markersize = 3, color = 'lightskyblue') \n",
    "plt.show()"
   ]
  },
  {
   "cell_type": "code",
   "execution_count": 9,
   "metadata": {},
   "outputs": [],
   "source": [
    "#Objective 9.\n",
    "#Find the list index of the portfolio of highest Sharpe ratio.\n",
    "\n",
    "index = np.argmax(portfolio_sharpe_ratios)"
   ]
  },
  {
   "cell_type": "code",
   "execution_count": 10,
   "metadata": {},
   "outputs": [
    {
     "name": "stdout",
     "output_type": "stream",
     "text": [
      "[[0.38223555 0.10479497 0.43960793 0.0644792  0.00888235]]\n",
      "0.031227689063425323\n"
     ]
    }
   ],
   "source": [
    "#Objective 10.\n",
    "#Print the asset weights and Sharpe ratio of the portfolio of highest Sharpe ratio, using index above.\n",
    "\n",
    "print(collection_of_random_asset_weights[index])\n",
    "print(portfolio_sharpe_ratios[index])"
   ]
  },
  {
   "cell_type": "code",
   "execution_count": 13,
   "metadata": {},
   "outputs": [
    {
     "data": {
      "image/png": "[encoded data removed]",
      "text/plain": [
       "<Figure size 432x288 with 1 Axes>"
      ]
     },
     "metadata": {
      "needs_background": "light"
     },
     "output_type": "display_data"
    }
   ],
   "source": [
    "#Objective 11.\n",
    "#Add the Capital Market Line to your scatterplot from Objective 8.\n",
    "\n",
    "x = np.linspace(0, max(portfolio_standard_deviations), 10000)\n",
    "y = portfolio_sharpe_ratios[index] * x\n",
    "plt.plot(portfolio_standard_deviations, portfolio_means, 'o', markersize = 3, color = 'lightskyblue')\n",
    "plt.plot(x, y, '-', linewidth = 2, color = 'green')\n",
    "plt.show()"
   ]
  },
  {
   "cell_type": "code",
   "execution_count": 12,
   "metadata": {},
   "outputs": [],
   "source": [
    "#Objective 12.\n",
    "#All of the work in this notebook assumes a risk-free rate of zero (0.00).\n",
    "# How could this work be modified to accommodate a nonzero risk-free rate?  Explain.\n"
   ]
  },
  {
   "cell_type": "markdown",
   "metadata": {},
   "source": [
    "\n",
    "in modern portfolio theory the standard deviation ues to measure the risk in of an asset.\n",
    "\n",
    "in objective 6: \n",
    "\n",
    "so, If we multiply by (np.squrt(250) to be =! 0) in the standard deviation equation to make\n",
    "\n",
    "the the Capital Market Line intersect in the middle , and the risk will be non-zero. \n"
   ]
  },
  {
   "cell_type": "code",
   "execution_count": null,
   "metadata": {},
   "outputs": [],
   "source": []
  },
  {
   "cell_type": "code",
   "execution_count": null,
   "metadata": {},
   "outputs": [],
   "source": []
  }
 ],
 "metadata": {
  "kernelspec": {
   "display_name": "Python 3",
   "language": "python",
   "name": "python3"
  },
  "language_info": {
   "codemirror_mode": {
    "name": "ipython",
    "version": 3
   },
   "file_extension": ".py",
   "mimetype": "text/x-python",
   "name": "python",
   "nbconvert_exporter": "python",
   "pygments_lexer": "ipython3",
   "version": "3.8.8"
  }
 },
 "nbformat": 4,
 "nbformat_minor": 4
}
